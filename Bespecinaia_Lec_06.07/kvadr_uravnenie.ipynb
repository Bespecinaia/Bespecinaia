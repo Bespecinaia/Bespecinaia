{
 "cells": [
  {
   "cell_type": "code",
   "execution_count": 5,
   "id": "55b0e31f",
   "metadata": {},
   "outputs": [
    {
     "name": "stdout",
     "output_type": "stream",
     "text": [
      "vvedite a= 1\n",
      "vvedite b= -2\n",
      "vvedite c= -6\n",
      "1-i koreni= 8.0\n",
      "2-i koreni= -6.0\n"
     ]
    }
   ],
   "source": [
    "a = int(input(\"vvedite a= \"))\n",
    "b = int(input(\"vvedite b= \"))\n",
    "c = int(input(\"vvedite c= \"))\n",
    "d = b*b-4*a*c\n",
    "if d < 0:\n",
    "    print(\"Net cornei\")\n",
    "elif d == 0:\n",
    "    x1 = -b/(2*a)\n",
    "    print(\"Odin koreni: \", x1)\n",
    "elif d > 0:\n",
    "    x1 = (-b + d**1/2)/(2*a)\n",
    "    print(\"1-i koreni=\", x1)\n",
    "    x2 = (-b - d**1/2)/(2*a)\n",
    "    print(\"2-i koreni=\", x2)"
   ]
  },
  {
   "cell_type": "code",
   "execution_count": null,
   "id": "a3665d4d",
   "metadata": {},
   "outputs": [],
   "source": []
  }
 ],
 "metadata": {
  "kernelspec": {
   "display_name": "Python 3 (ipykernel)",
   "language": "python",
   "name": "python3"
  },
  "language_info": {
   "codemirror_mode": {
    "name": "ipython",
    "version": 3
   },
   "file_extension": ".py",
   "mimetype": "text/x-python",
   "name": "python",
   "nbconvert_exporter": "python",
   "pygments_lexer": "ipython3",
   "version": "3.10.5"
  }
 },
 "nbformat": 4,
 "nbformat_minor": 5
}
