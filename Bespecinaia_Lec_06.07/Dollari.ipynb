{
 "cells": [
  {
   "cell_type": "code",
   "execution_count": 3,
   "id": "05d55595",
   "metadata": {},
   "outputs": [
    {
     "name": "stdout",
     "output_type": "stream",
     "text": [
      "vvedite nominal kupyri5\n",
      "A.Lincoln\n"
     ]
    }
   ],
   "source": [
    "dd = int(input(\"vvedite nominal kupyri\"))\n",
    "if dd == 1:\n",
    "    print(\"DJ.Vashington\")\n",
    "elif dd == 2:\n",
    "    print(\"T.Djefferson\")\n",
    "elif dd == 5:\n",
    "     print(\"A.Lincoln\")\n",
    "elif dd == 10:\n",
    "    print(\"A. Gamilton\")\n",
    "elif dd == 20:\n",
    "    print(\"E.Djekson\")\n",
    "elif dd == 50:\n",
    "    print(\"Y.Grant\")\n",
    "elif dd == 100:\n",
    "    print(\"B.Franklin\")\n",
    "                "
   ]
  },
  {
   "cell_type": "code",
   "execution_count": null,
   "id": "8746f7ce",
   "metadata": {},
   "outputs": [],
   "source": []
  }
 ],
 "metadata": {
  "kernelspec": {
   "display_name": "Python 3 (ipykernel)",
   "language": "python",
   "name": "python3"
  },
  "language_info": {
   "codemirror_mode": {
    "name": "ipython",
    "version": 3
   },
   "file_extension": ".py",
   "mimetype": "text/x-python",
   "name": "python",
   "nbconvert_exporter": "python",
   "pygments_lexer": "ipython3",
   "version": "3.10.5"
  }
 },
 "nbformat": 4,
 "nbformat_minor": 5
}
